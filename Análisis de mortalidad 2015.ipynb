{
 "cells": [
  {
   "cell_type": "code",
   "execution_count": 2,
   "metadata": {},
   "outputs": [
    {
     "data": {
      "text/html": [
       "<div>\n",
       "<style>\n",
       "    .dataframe thead tr:only-child th {\n",
       "        text-align: right;\n",
       "    }\n",
       "\n",
       "    .dataframe thead th {\n",
       "        text-align: left;\n",
       "    }\n",
       "\n",
       "    .dataframe tbody tr th {\n",
       "        vertical-align: top;\n",
       "    }\n",
       "</style>\n",
       "<table border=\"1\" class=\"dataframe\">\n",
       "  <thead>\n",
       "    <tr style=\"text-align: right;\">\n",
       "      <th></th>\n",
       "      <th>ent_regis</th>\n",
       "      <th>mun_regis</th>\n",
       "      <th>ent_resid</th>\n",
       "      <th>mun_resid</th>\n",
       "      <th>tloc_resid</th>\n",
       "      <th>loc_resid</th>\n",
       "      <th>ent_ocurr</th>\n",
       "      <th>mun_ocurr</th>\n",
       "      <th>tloc_ocurr</th>\n",
       "      <th>loc_ocurr</th>\n",
       "      <th>...</th>\n",
       "      <th>anio_cert</th>\n",
       "      <th>maternas</th>\n",
       "      <th>lengua</th>\n",
       "      <th>cond_act</th>\n",
       "      <th>par_agre</th>\n",
       "      <th>ent_ocules</th>\n",
       "      <th>mun_ocules</th>\n",
       "      <th>loc_ocules</th>\n",
       "      <th>razon_m</th>\n",
       "      <th>dis_re_oax</th>\n",
       "    </tr>\n",
       "  </thead>\n",
       "  <tbody>\n",
       "    <tr>\n",
       "      <th>0</th>\n",
       "      <td>1</td>\n",
       "      <td>1</td>\n",
       "      <td>1</td>\n",
       "      <td>1</td>\n",
       "      <td>15</td>\n",
       "      <td>1</td>\n",
       "      <td>1</td>\n",
       "      <td>1</td>\n",
       "      <td>15</td>\n",
       "      <td>1</td>\n",
       "      <td>...</td>\n",
       "      <td>2015</td>\n",
       "      <td>NaN</td>\n",
       "      <td>2</td>\n",
       "      <td>2</td>\n",
       "      <td>88</td>\n",
       "      <td>88</td>\n",
       "      <td>888</td>\n",
       "      <td>8888</td>\n",
       "      <td>0</td>\n",
       "      <td>999</td>\n",
       "    </tr>\n",
       "    <tr>\n",
       "      <th>1</th>\n",
       "      <td>1</td>\n",
       "      <td>1</td>\n",
       "      <td>1</td>\n",
       "      <td>1</td>\n",
       "      <td>15</td>\n",
       "      <td>1</td>\n",
       "      <td>1</td>\n",
       "      <td>1</td>\n",
       "      <td>15</td>\n",
       "      <td>1</td>\n",
       "      <td>...</td>\n",
       "      <td>2015</td>\n",
       "      <td>NaN</td>\n",
       "      <td>9</td>\n",
       "      <td>1</td>\n",
       "      <td>88</td>\n",
       "      <td>88</td>\n",
       "      <td>888</td>\n",
       "      <td>8888</td>\n",
       "      <td>0</td>\n",
       "      <td>999</td>\n",
       "    </tr>\n",
       "    <tr>\n",
       "      <th>2</th>\n",
       "      <td>1</td>\n",
       "      <td>1</td>\n",
       "      <td>1</td>\n",
       "      <td>1</td>\n",
       "      <td>15</td>\n",
       "      <td>1</td>\n",
       "      <td>1</td>\n",
       "      <td>1</td>\n",
       "      <td>15</td>\n",
       "      <td>1</td>\n",
       "      <td>...</td>\n",
       "      <td>2015</td>\n",
       "      <td>NaN</td>\n",
       "      <td>9</td>\n",
       "      <td>1</td>\n",
       "      <td>88</td>\n",
       "      <td>88</td>\n",
       "      <td>888</td>\n",
       "      <td>8888</td>\n",
       "      <td>0</td>\n",
       "      <td>999</td>\n",
       "    </tr>\n",
       "    <tr>\n",
       "      <th>3</th>\n",
       "      <td>1</td>\n",
       "      <td>1</td>\n",
       "      <td>1</td>\n",
       "      <td>1</td>\n",
       "      <td>15</td>\n",
       "      <td>1</td>\n",
       "      <td>1</td>\n",
       "      <td>1</td>\n",
       "      <td>15</td>\n",
       "      <td>1</td>\n",
       "      <td>...</td>\n",
       "      <td>2015</td>\n",
       "      <td>NaN</td>\n",
       "      <td>2</td>\n",
       "      <td>1</td>\n",
       "      <td>88</td>\n",
       "      <td>88</td>\n",
       "      <td>888</td>\n",
       "      <td>8888</td>\n",
       "      <td>0</td>\n",
       "      <td>999</td>\n",
       "    </tr>\n",
       "    <tr>\n",
       "      <th>4</th>\n",
       "      <td>1</td>\n",
       "      <td>1</td>\n",
       "      <td>1</td>\n",
       "      <td>1</td>\n",
       "      <td>15</td>\n",
       "      <td>1</td>\n",
       "      <td>1</td>\n",
       "      <td>1</td>\n",
       "      <td>15</td>\n",
       "      <td>1</td>\n",
       "      <td>...</td>\n",
       "      <td>2015</td>\n",
       "      <td>NaN</td>\n",
       "      <td>2</td>\n",
       "      <td>2</td>\n",
       "      <td>88</td>\n",
       "      <td>88</td>\n",
       "      <td>888</td>\n",
       "      <td>8888</td>\n",
       "      <td>0</td>\n",
       "      <td>999</td>\n",
       "    </tr>\n",
       "  </tbody>\n",
       "</table>\n",
       "<p>5 rows × 59 columns</p>\n",
       "</div>"
      ],
      "text/plain": [
       "   ent_regis  mun_regis  ent_resid  mun_resid  tloc_resid  loc_resid  \\\n",
       "0          1          1          1          1          15          1   \n",
       "1          1          1          1          1          15          1   \n",
       "2          1          1          1          1          15          1   \n",
       "3          1          1          1          1          15          1   \n",
       "4          1          1          1          1          15          1   \n",
       "\n",
       "   ent_ocurr  mun_ocurr  tloc_ocurr  loc_ocurr     ...     anio_cert maternas  \\\n",
       "0          1          1          15          1     ...          2015      NaN   \n",
       "1          1          1          15          1     ...          2015      NaN   \n",
       "2          1          1          15          1     ...          2015      NaN   \n",
       "3          1          1          15          1     ...          2015      NaN   \n",
       "4          1          1          15          1     ...          2015      NaN   \n",
       "\n",
       "   lengua  cond_act  par_agre  ent_ocules  mun_ocules  loc_ocules  razon_m  \\\n",
       "0       2         2        88          88         888        8888        0   \n",
       "1       9         1        88          88         888        8888        0   \n",
       "2       9         1        88          88         888        8888        0   \n",
       "3       2         1        88          88         888        8888        0   \n",
       "4       2         2        88          88         888        8888        0   \n",
       "\n",
       "   dis_re_oax  \n",
       "0         999  \n",
       "1         999  \n",
       "2         999  \n",
       "3         999  \n",
       "4         999  \n",
       "\n",
       "[5 rows x 59 columns]"
      ]
     },
     "execution_count": 2,
     "metadata": {},
     "output_type": "execute_result"
    }
   ],
   "source": [
    "import pandas as pd\n",
    "from pandas import Series,DataFrame\n",
    "\n",
    "#El archivo del INEGI que trae los datos se llama def15.CSV\n",
    "defunciones_mex = pd.read_csv('defun15.CSV')\n",
    "\n",
    "#Mostramos los primeras cinco renglones\n",
    "defunciones_mex.head()"
   ]
  },
  {
   "cell_type": "code",
   "execution_count": 3,
   "metadata": {},
   "outputs": [
    {
     "name": "stdout",
     "output_type": "stream",
     "text": [
      "<class 'pandas.core.frame.DataFrame'>\n",
      "RangeIndex: 655688 entries, 0 to 655687\n",
      "Data columns (total 59 columns):\n",
      "ent_regis     655688 non-null int64\n",
      "mun_regis     655688 non-null int64\n",
      "ent_resid     655688 non-null int64\n",
      "mun_resid     655688 non-null int64\n",
      "tloc_resid    655688 non-null int64\n",
      "loc_resid     655688 non-null int64\n",
      "ent_ocurr     655688 non-null int64\n",
      "mun_ocurr     655688 non-null int64\n",
      "tloc_ocurr    655688 non-null int64\n",
      "loc_ocurr     655688 non-null int64\n",
      "causa_def     655688 non-null object\n",
      "lista_mex     655688 non-null object\n",
      "sexo          655688 non-null int64\n",
      "edad          655688 non-null int64\n",
      "dia_ocurr     655688 non-null int64\n",
      "mes_ocurr     655688 non-null int64\n",
      "anio_ocur     655688 non-null int64\n",
      "dia_regis     655688 non-null int64\n",
      "mes_regis     655688 non-null int64\n",
      "anio_regis    655688 non-null int64\n",
      "dia_nacim     655688 non-null int64\n",
      "mes_nacim     655688 non-null int64\n",
      "anio_nacim    655688 non-null int64\n",
      "ocupacion     655688 non-null int64\n",
      "escolarida    655688 non-null int64\n",
      "edo_civil     655688 non-null int64\n",
      "presunto      655688 non-null int64\n",
      "ocurr_trab    655688 non-null int64\n",
      "lugar_ocur    655688 non-null int64\n",
      "necropsia     655688 non-null int64\n",
      "asist_medi    655688 non-null int64\n",
      "sitio_ocur    655688 non-null int64\n",
      "cond_cert     655688 non-null int64\n",
      "nacionalid    655688 non-null int64\n",
      "derechohab    655688 non-null int64\n",
      "embarazo      655688 non-null int64\n",
      "rel_emba      655688 non-null int64\n",
      "horas         655688 non-null int64\n",
      "minutos       655688 non-null int64\n",
      "capitulo      655688 non-null int64\n",
      "grupo         655688 non-null int64\n",
      "lista1        655688 non-null int64\n",
      "gr_lismex     655688 non-null object\n",
      "vio_fami      655688 non-null int64\n",
      "area_ur       655688 non-null int64\n",
      "edad_agru     655688 non-null int64\n",
      "complicaro    655688 non-null int64\n",
      "dia_cert      655688 non-null int64\n",
      "mes_cert      655688 non-null int64\n",
      "anio_cert     655688 non-null int64\n",
      "maternas      944 non-null object\n",
      "lengua        655688 non-null int64\n",
      "cond_act      655688 non-null int64\n",
      "par_agre      655688 non-null int64\n",
      "ent_ocules    655688 non-null int64\n",
      "mun_ocules    655688 non-null int64\n",
      "loc_ocules    655688 non-null int64\n",
      "razon_m       655688 non-null int64\n",
      "dis_re_oax    655688 non-null int64\n",
      "dtypes: int64(55), object(4)\n",
      "memory usage: 295.1+ MB\n"
     ]
    }
   ],
   "source": [
    "#observamos la información que posee nuestra base\n",
    "defunciones_mex.info()"
   ]
  },
  {
   "cell_type": "code",
   "execution_count": 4,
   "metadata": {
    "collapsed": true
   },
   "outputs": [],
   "source": [
    "#importamos las bibliotecas necesarias para la visualización\n",
    "import numpy as np\n",
    "import matplotlib.pyplot as plt\n",
    "import seaborn as sns\n",
    "%matplotlib inline"
   ]
  },
  {
   "cell_type": "code",
   "execution_count": 5,
   "metadata": {},
   "outputs": [
    {
     "data": {
      "text/plain": [
       "<seaborn.axisgrid.FacetGrid at 0x564edd8>"
      ]
     },
     "execution_count": 5,
     "metadata": {},
     "output_type": "execute_result"
    },
    {
     "data": {
      "image/png": "[encoded data removed]",
      "text/plain": [
       "<matplotlib.figure.Figure at 0x15063780>"
      ]
     },
     "metadata": {},
     "output_type": "display_data"
    }
   ],
   "source": [
    "#vemos el número de muertes a nivel nacional por sexo\n",
    "sns.factorplot('sexo', data=defunciones_mex, kind='count')\n",
    "\n",
    "#Valor\tCategoría\n",
    "#1\tHombre\n",
    "#2\tMujer\n",
    "#9\tNo especificado"
   ]
  },
  {
   "cell_type": "code",
   "execution_count": 6,
   "metadata": {},
   "outputs": [
    {
     "data": {
      "text/plain": [
       "<seaborn.axisgrid.FacetGrid at 0x11ff2fd0>"
      ]
     },
     "execution_count": 6,
     "metadata": {},
     "output_type": "execute_result"
    },
    {
     "data": {
      "image/png": "[encoded data removed]",
      "text/plain": [
       "<matplotlib.figure.Figure at 0x11ff2f98>"
      ]
     },
     "metadata": {},
     "output_type": "display_data"
    }
   ],
   "source": [
    "#En gráfica anterior tenemos que 1 = hombre y 2 = mujeres (INEGI)\n",
    "#por lo que observamos que a nivel nacional mueren más hombres que\n",
    "#mujeres. (Las muertes se deben a diferentes causas)\n",
    "\n",
    "#Cual es el estado civil de las personas que fallecen?\n",
    "\n",
    "sns.factorplot('sexo', data=defunciones_mex, hue='edo_civil', kind='count')\n",
    "\n",
    "#Valor\tCategoría\n",
    "#1\tSoltero (a)\n",
    "#2\tDivorciado (a)\n",
    "#3\tViudo (a)\n",
    "#4\tUnión libre\n",
    "#5\tCasado (a)\n",
    "#6\tSeparado (a)\n",
    "#8\tNo aplica a menores de 12 años\n",
    "#9\tNo especificado\n",
    "\n",
    "\n"
   ]
  },
  {
   "cell_type": "code",
   "execution_count": 7,
   "metadata": {
    "collapsed": true
   },
   "outputs": [],
   "source": [
    "#Y como es la situación de suicuidio a nivel nacional\n",
    "def suicidios_mex(person):\n",
    "    presunto, sexo = person\n",
    "    \n",
    "    if presunto == 3:\n",
    "        return 'suicidio'\n",
    "    else:\n",
    "        return\n",
    "    "
   ]
  },
  {
   "cell_type": "code",
   "execution_count": 8,
   "metadata": {
    "collapsed": true
   },
   "outputs": [],
   "source": [
    "#creamos una nueva columna llamada suicidios_nac\n",
    "defunciones_mex['suicidios_nac'] = defunciones_mex[['presunto', 'sexo']].apply(suicidios_mex, axis = 1)"
   ]
  },
  {
   "cell_type": "code",
   "execution_count": 9,
   "metadata": {},
   "outputs": [
    {
     "data": {
      "text/html": [
       "<div>\n",
       "<style>\n",
       "    .dataframe thead tr:only-child th {\n",
       "        text-align: right;\n",
       "    }\n",
       "\n",
       "    .dataframe thead th {\n",
       "        text-align: left;\n",
       "    }\n",
       "\n",
       "    .dataframe tbody tr th {\n",
       "        vertical-align: top;\n",
       "    }\n",
       "</style>\n",
       "<table border=\"1\" class=\"dataframe\">\n",
       "  <thead>\n",
       "    <tr style=\"text-align: right;\">\n",
       "      <th></th>\n",
       "      <th>ent_regis</th>\n",
       "      <th>mun_regis</th>\n",
       "      <th>ent_resid</th>\n",
       "      <th>mun_resid</th>\n",
       "      <th>tloc_resid</th>\n",
       "      <th>loc_resid</th>\n",
       "      <th>ent_ocurr</th>\n",
       "      <th>mun_ocurr</th>\n",
       "      <th>tloc_ocurr</th>\n",
       "      <th>loc_ocurr</th>\n",
       "      <th>...</th>\n",
       "      <th>maternas</th>\n",
       "      <th>lengua</th>\n",
       "      <th>cond_act</th>\n",
       "      <th>par_agre</th>\n",
       "      <th>ent_ocules</th>\n",
       "      <th>mun_ocules</th>\n",
       "      <th>loc_ocules</th>\n",
       "      <th>razon_m</th>\n",
       "      <th>dis_re_oax</th>\n",
       "      <th>suicidios_nac</th>\n",
       "    </tr>\n",
       "  </thead>\n",
       "  <tbody>\n",
       "    <tr>\n",
       "      <th>0</th>\n",
       "      <td>1</td>\n",
       "      <td>1</td>\n",
       "      <td>1</td>\n",
       "      <td>1</td>\n",
       "      <td>15</td>\n",
       "      <td>1</td>\n",
       "      <td>1</td>\n",
       "      <td>1</td>\n",
       "      <td>15</td>\n",
       "      <td>1</td>\n",
       "      <td>...</td>\n",
       "      <td>NaN</td>\n",
       "      <td>2</td>\n",
       "      <td>2</td>\n",
       "      <td>88</td>\n",
       "      <td>88</td>\n",
       "      <td>888</td>\n",
       "      <td>8888</td>\n",
       "      <td>0</td>\n",
       "      <td>999</td>\n",
       "      <td>NaN</td>\n",
       "    </tr>\n",
       "    <tr>\n",
       "      <th>1</th>\n",
       "      <td>1</td>\n",
       "      <td>1</td>\n",
       "      <td>1</td>\n",
       "      <td>1</td>\n",
       "      <td>15</td>\n",
       "      <td>1</td>\n",
       "      <td>1</td>\n",
       "      <td>1</td>\n",
       "      <td>15</td>\n",
       "      <td>1</td>\n",
       "      <td>...</td>\n",
       "      <td>NaN</td>\n",
       "      <td>9</td>\n",
       "      <td>1</td>\n",
       "      <td>88</td>\n",
       "      <td>88</td>\n",
       "      <td>888</td>\n",
       "      <td>8888</td>\n",
       "      <td>0</td>\n",
       "      <td>999</td>\n",
       "      <td>NaN</td>\n",
       "    </tr>\n",
       "    <tr>\n",
       "      <th>2</th>\n",
       "      <td>1</td>\n",
       "      <td>1</td>\n",
       "      <td>1</td>\n",
       "      <td>1</td>\n",
       "      <td>15</td>\n",
       "      <td>1</td>\n",
       "      <td>1</td>\n",
       "      <td>1</td>\n",
       "      <td>15</td>\n",
       "      <td>1</td>\n",
       "      <td>...</td>\n",
       "      <td>NaN</td>\n",
       "      <td>9</td>\n",
       "      <td>1</td>\n",
       "      <td>88</td>\n",
       "      <td>88</td>\n",
       "      <td>888</td>\n",
       "      <td>8888</td>\n",
       "      <td>0</td>\n",
       "      <td>999</td>\n",
       "      <td>NaN</td>\n",
       "    </tr>\n",
       "    <tr>\n",
       "      <th>3</th>\n",
       "      <td>1</td>\n",
       "      <td>1</td>\n",
       "      <td>1</td>\n",
       "      <td>1</td>\n",
       "      <td>15</td>\n",
       "      <td>1</td>\n",
       "      <td>1</td>\n",
       "      <td>1</td>\n",
       "      <td>15</td>\n",
       "      <td>1</td>\n",
       "      <td>...</td>\n",
       "      <td>NaN</td>\n",
       "      <td>2</td>\n",
       "      <td>1</td>\n",
       "      <td>88</td>\n",
       "      <td>88</td>\n",
       "      <td>888</td>\n",
       "      <td>8888</td>\n",
       "      <td>0</td>\n",
       "      <td>999</td>\n",
       "      <td>NaN</td>\n",
       "    </tr>\n",
       "    <tr>\n",
       "      <th>4</th>\n",
       "      <td>1</td>\n",
       "      <td>1</td>\n",
       "      <td>1</td>\n",
       "      <td>1</td>\n",
       "      <td>15</td>\n",
       "      <td>1</td>\n",
       "      <td>1</td>\n",
       "      <td>1</td>\n",
       "      <td>15</td>\n",
       "      <td>1</td>\n",
       "      <td>...</td>\n",
       "      <td>NaN</td>\n",
       "      <td>2</td>\n",
       "      <td>2</td>\n",
       "      <td>88</td>\n",
       "      <td>88</td>\n",
       "      <td>888</td>\n",
       "      <td>8888</td>\n",
       "      <td>0</td>\n",
       "      <td>999</td>\n",
       "      <td>NaN</td>\n",
       "    </tr>\n",
       "  </tbody>\n",
       "</table>\n",
       "<p>5 rows × 60 columns</p>\n",
       "</div>"
      ],
      "text/plain": [
       "   ent_regis  mun_regis  ent_resid  mun_resid  tloc_resid  loc_resid  \\\n",
       "0          1          1          1          1          15          1   \n",
       "1          1          1          1          1          15          1   \n",
       "2          1          1          1          1          15          1   \n",
       "3          1          1          1          1          15          1   \n",
       "4          1          1          1          1          15          1   \n",
       "\n",
       "   ent_ocurr  mun_ocurr  tloc_ocurr  loc_ocurr      ...       maternas lengua  \\\n",
       "0          1          1          15          1      ...            NaN      2   \n",
       "1          1          1          15          1      ...            NaN      9   \n",
       "2          1          1          15          1      ...            NaN      9   \n",
       "3          1          1          15          1      ...            NaN      2   \n",
       "4          1          1          15          1      ...            NaN      2   \n",
       "\n",
       "   cond_act  par_agre  ent_ocules  mun_ocules  loc_ocules  razon_m  \\\n",
       "0         2        88          88         888        8888        0   \n",
       "1         1        88          88         888        8888        0   \n",
       "2         1        88          88         888        8888        0   \n",
       "3         1        88          88         888        8888        0   \n",
       "4         2        88          88         888        8888        0   \n",
       "\n",
       "   dis_re_oax  suicidios_nac  \n",
       "0         999            NaN  \n",
       "1         999            NaN  \n",
       "2         999            NaN  \n",
       "3         999            NaN  \n",
       "4         999            NaN  \n",
       "\n",
       "[5 rows x 60 columns]"
      ]
     },
     "execution_count": 9,
     "metadata": {},
     "output_type": "execute_result"
    }
   ],
   "source": [
    "defunciones_mex[0:5]"
   ]
  },
  {
   "cell_type": "code",
   "execution_count": 10,
   "metadata": {},
   "outputs": [
    {
     "data": {
      "text/plain": [
       "<seaborn.axisgrid.FacetGrid at 0xd8ac400>"
      ]
     },
     "execution_count": 10,
     "metadata": {},
     "output_type": "execute_result"
    },
    {
     "data": {
      "image/png": "[encoded data removed]",
      "text/plain": [
       "<matplotlib.figure.Figure at 0xf109ac8>"
      ]
     },
     "metadata": {},
     "output_type": "display_data"
    }
   ],
   "source": [
    "sns.factorplot('sexo', data=defunciones_mex, hue= 'suicidios_nac', kind='count')\n",
    "#se aprecia en la gráfica que se suicidan mas hombres que mujeres a nivel nacional"
   ]
  },
  {
   "cell_type": "code",
   "execution_count": 11,
   "metadata": {},
   "outputs": [
    {
     "data": {
      "text/plain": [
       "6425    1\n",
       "Name: suicidios_nac, dtype: int64"
      ]
     },
     "execution_count": 11,
     "metadata": {},
     "output_type": "execute_result"
    }
   ],
   "source": [
    "#La cantidad de suiciodos fue:\n",
    "defunciones_mex['suicidios_nac'].value_counts().value_counts()\n",
    "\n",
    "\n"
   ]
  },
  {
   "cell_type": "code",
   "execution_count": 12,
   "metadata": {},
   "outputs": [
    {
     "data": {
      "text/plain": [
       "sexo  suicidios_nac\n",
       "1     suicidio         5141\n",
       "2     suicidio         1280\n",
       "9     suicidio            4\n",
       "Name: suicidios_nac, dtype: int64"
      ]
     },
     "execution_count": 12,
     "metadata": {},
     "output_type": "execute_result"
    }
   ],
   "source": [
    "#Cuál fue la cantidad exacta de suicidios entre hombres y mujeres?\n",
    "defunciones_mex['suicidios_nac'].groupby(defunciones_mex['sexo']).value_counts()"
   ]
  },
  {
   "cell_type": "code",
   "execution_count": 13,
   "metadata": {
    "collapsed": true
   },
   "outputs": [],
   "source": [
    "#Ahora vamos a analizar la situación de campeche, código 4.\n",
    "def suicidio_campeche(persona):\n",
    "    ent_ocurr, edad, presunto, sexo = persona\n",
    "    \n",
    "    if (ent_ocurr == 4 and presunto == 3):\n",
    "        return 'suicidio'\n",
    "    else:\n",
    "        return \n"
   ]
  },
  {
   "cell_type": "code",
   "execution_count": 14,
   "metadata": {
    "collapsed": true
   },
   "outputs": [],
   "source": [
    "defunciones_mex['suicidio_campeche'] = defunciones_mex[['ent_ocurr','edad','presunto','sexo']].apply(suicidio_campeche, axis=1)"
   ]
  },
  {
   "cell_type": "code",
   "execution_count": 15,
   "metadata": {},
   "outputs": [
    {
     "data": {
      "text/plain": [
       "<seaborn.axisgrid.FacetGrid at 0xd891d68>"
      ]
     },
     "execution_count": 15,
     "metadata": {},
     "output_type": "execute_result"
    },
    {
     "data": {
      "image/png": "[encoded data removed]",
      "text/plain": [
       "<matplotlib.figure.Figure at 0x11023160>"
      ]
     },
     "metadata": {},
     "output_type": "display_data"
    }
   ],
   "source": [
    "sns.factorplot('sexo', data=defunciones_mex, hue='suicidio_campeche', kind='count')"
   ]
  },
  {
   "cell_type": "code",
   "execution_count": 16,
   "metadata": {},
   "outputs": [
    {
     "data": {
      "text/plain": [
       "sexo  suicidio_campeche\n",
       "1     suicidio             72\n",
       "2     suicidio             14\n",
       "Name: suicidio_campeche, dtype: int64"
      ]
     },
     "execution_count": 16,
     "metadata": {},
     "output_type": "execute_result"
    }
   ],
   "source": [
    "defunciones_mex['suicidio_campeche'].groupby(defunciones_mex['sexo']).value_counts()\n",
    "#Se puede observar que la tendecia sigue siendo más hacia hombres."
   ]
  },
  {
   "cell_type": "code",
   "execution_count": null,
   "metadata": {
    "collapsed": true
   },
   "outputs": [],
   "source": []
  }
 ],
 "metadata": {
  "kernelspec": {
   "display_name": "Python 2",
   "language": "python",
   "name": "python2"
  },
  "language_info": {
   "codemirror_mode": {
    "name": "ipython",
    "version": 2
   },
   "file_extension": ".py",
   "mimetype": "text/x-python",
   "name": "python",
   "nbconvert_exporter": "python",
   "pygments_lexer": "ipython2",
   "version": "2.7.13"
  }
 },
 "nbformat": 4,
 "nbformat_minor": 2
}
